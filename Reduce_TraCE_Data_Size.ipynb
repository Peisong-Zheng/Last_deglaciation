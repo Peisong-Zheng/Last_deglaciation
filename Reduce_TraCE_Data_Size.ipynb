{
 "cells": [
  {
   "cell_type": "code",
   "execution_count": 1,
   "metadata": {},
   "outputs": [
    {
     "name": "stdout",
     "output_type": "stream",
     "text": [
      "Renamed data_fig3/b30.00_4kaDVTk.cam2.ncrcat.ann.nc to data_fig3/b30.00_4kaDVTk.cam2.ncrcat.ann_original_backup.nc\n",
      "Saved 'TREFHT' variable to data_fig3/b30.00_4kaDVTk.cam2.ncrcat.ann.nc\n",
      "Renamed TraCE_data/b30.00_4kaDVTj.cam2.ncrcat.ann.nc to TraCE_data/b30.00_4kaDVTj.cam2.ncrcat.ann_original_backup.nc\n",
      "Saved 'TREFHT' variable to TraCE_data/b30.00_4kaDVTj.cam2.ncrcat.ann.nc\n",
      "Renamed TraCE_data/b30.00_4kaDVTz.cam2.ncrcat.ann.nc to TraCE_data/b30.00_4kaDVTz.cam2.ncrcat.ann_original_backup.nc\n",
      "Saved 'TREFHT' variable to TraCE_data/b30.00_4kaDVTz.cam2.ncrcat.ann.nc\n",
      "Renamed TraCE_data/b30.00_4kaDVTn.cam2.ncrcat.ann.nc to TraCE_data/b30.00_4kaDVTn.cam2.ncrcat.ann_original_backup.nc\n",
      "Saved 'TREFHT' variable to TraCE_data/b30.00_4kaDVTn.cam2.ncrcat.ann.nc\n"
     ]
    }
   ],
   "source": [
    "import os\n",
    "import xarray as xr\n",
    "\n",
    "# List of file paths\n",
    "file_paths = [\n",
    "    'data_fig3/b30.00_4kaDVTk.cam2.ncrcat.ann.nc',\n",
    "    'TraCE_data/b30.00_4kaDVTj.cam2.ncrcat.ann.nc',\n",
    "    'TraCE_data/b30.00_4kaDVTz.cam2.ncrcat.ann.nc',\n",
    "    'TraCE_data/b30.00_4kaDVTn.cam2.ncrcat.ann.nc'\n",
    "]\n",
    "\n",
    "for filename in file_paths:\n",
    "    # Check if the file exists\n",
    "    if not os.path.exists(filename):\n",
    "        print(f\"File {filename} does not exist.\")\n",
    "        continue\n",
    "\n",
    "    # Separate base name and extension\n",
    "    base, ext = os.path.splitext(filename)\n",
    "    # Create backup filename\n",
    "    backup_filename = f\"{base}_original_backup{ext}\"\n",
    "\n",
    "    # Rename the original file\n",
    "    os.rename(filename, backup_filename)\n",
    "    print(f\"Renamed {filename} to {backup_filename}\")\n",
    "\n",
    "    # Read the renamed file\n",
    "    ds = xr.open_dataset(backup_filename)\n",
    "\n",
    "    # Extract 'TREFHT' variable\n",
    "    if 'TREFHT' in ds.variables:\n",
    "        ds_trefht = ds[['TREFHT']]\n",
    "    else:\n",
    "        print(f\"'TREFHT' variable not found in {backup_filename}\")\n",
    "        ds.close()\n",
    "        continue\n",
    "\n",
    "    # Save the extracted variable to the original filename\n",
    "    ds_trefht.to_netcdf(filename)\n",
    "    print(f\"Saved 'TREFHT' variable to {filename}\")\n",
    "\n",
    "    # Close the datasets\n",
    "    ds.close()\n",
    "    ds_trefht.close()\n"
   ]
  },
  {
   "cell_type": "code",
   "execution_count": null,
   "metadata": {},
   "outputs": [],
   "source": []
  }
 ],
 "metadata": {
  "kernelspec": {
   "display_name": "pz_venv_causal",
   "language": "python",
   "name": "python3"
  },
  "language_info": {
   "codemirror_mode": {
    "name": "ipython",
    "version": 3
   },
   "file_extension": ".py",
   "mimetype": "text/x-python",
   "name": "python",
   "nbconvert_exporter": "python",
   "pygments_lexer": "ipython3",
   "version": "3.8.18"
  }
 },
 "nbformat": 4,
 "nbformat_minor": 2
}
