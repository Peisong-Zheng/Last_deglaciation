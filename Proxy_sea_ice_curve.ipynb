{
 "cells": [
  {
   "cell_type": "markdown",
   "metadata": {},
   "source": [
    "# Load the PIPSO25 sea ice data\n",
    "Ref: Sadatzki et al., 2023"
   ]
  },
  {
   "cell_type": "code",
   "execution_count": 6,
   "metadata": {},
   "outputs": [],
   "source": [
    "import pandas as pd\n",
    "\n",
    "file_path = 'data_fig4/Sadatzki_2023_data.xlsx'\n",
    "df_sa23 = pd.read_excel(file_path,skiprows=0)\n",
    "# # extract the 'Age','F(opal)' columns\n",
    "# df_opal = df_opal[['Age','F(opal)']]\n",
    "# rename columns to 'age','opal_flux'\n",
    "df_sa23.columns = ['age','PIPSO25_c0.45','PIPSO25_c1']\n",
    "# convert age to years\n",
    "df_sa23['age'] = df_sa23['age']*1000\n",
    "# save the data to csv file\n",
    "df_sa23.to_csv('data_fig4/sa23.csv',index=False)"
   ]
  },
  {
   "cell_type": "markdown",
   "metadata": {},
   "source": []
  }
 ],
 "metadata": {
  "kernelspec": {
   "display_name": "pz-env",
   "language": "python",
   "name": "python3"
  },
  "language_info": {
   "codemirror_mode": {
    "name": "ipython",
    "version": 3
   },
   "file_extension": ".py",
   "mimetype": "text/x-python",
   "name": "python",
   "nbconvert_exporter": "python",
   "pygments_lexer": "ipython3",
   "version": "3.10.8"
  }
 },
 "nbformat": 4,
 "nbformat_minor": 2
}
